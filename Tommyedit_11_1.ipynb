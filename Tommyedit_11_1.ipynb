{
 "cells": [
  {
   "cell_type": "code",
   "execution_count": 2,
   "metadata": {},
   "outputs": [
    {
     "ename": "NameError",
     "evalue": "name 'Introduction' is not defined",
     "output_type": "error",
     "traceback": [
      "\u001b[1;31m---------------------------------------------------------------------------\u001b[0m",
      "\u001b[1;31mNameError\u001b[0m                                 Traceback (most recent call last)",
      "\u001b[1;32m<ipython-input-2-d49b37edf796>\u001b[0m in \u001b[0;36m<module>\u001b[1;34m\u001b[0m\n\u001b[1;32m----> 1\u001b[1;33m \u001b[0mIntroduction\u001b[0m \u001b[1;31m##Explanation of what this is all about.\u001b[0m\u001b[1;33m\u001b[0m\u001b[0m\n\u001b[0m\u001b[0;32m      2\u001b[0m \u001b[1;33m\u001b[0m\u001b[0m\n",
      "\u001b[1;31mNameError\u001b[0m: name 'Introduction' is not defined"
     ]
    }
   ],
   "source": [
    "Introduction ##Explanation of what this is all about. \n",
    "\n"
   ]
  },
  {
   "cell_type": "code",
   "execution_count": null,
   "metadata": {},
   "outputs": [],
   "source": [
    "# Import libraries\n",
    "import scipy as sp\n",
    "import pandas as pd\n",
    "import matplotlib.pyplot as plt\n",
    "import numpy as np\n",
    "import scipy.io as si"
   ]
  },
  {
   "cell_type": "code",
   "execution_count": null,
   "metadata": {},
   "outputs": [],
   "source": [
    "#Import data"
   ]
  },
  {
   "cell_type": "code",
   "execution_count": null,
   "metadata": {},
   "outputs": [],
   "source": [
    "# Answer\n",
    "dataVNS=pd.read_csv('DataVNS.csv')\n",
    "dataUN=pd.read_csv('DataUN.csv')\n",
    "dataUN"
   ]
  },
  {
   "cell_type": "markdown",
   "metadata": {},
   "source": [
    "Multiply data by 1000 for the UN data, and 10,000 for the VNS Data to accurately represent the frequency of the tones, and make like rewards have the same numerical value. "
   ]
  },
  {
   "cell_type": "code",
   "execution_count": null,
   "metadata": {},
   "outputs": [],
   "source": [
    "# Answer\n",
    "dataVNS=dataVNS*10000  ##Should this be 10,000 or 1,000?\n",
    "dataUN=dataUN*1000\n",
    "dataVNS"
   ]
  },
  {
   "cell_type": "markdown",
   "metadata": {},
   "source": []
  },
  {
   "cell_type": "code",
   "execution_count": null,
   "metadata": {},
   "outputs": [],
   "source": [
    "#Let's take a look at the unstimulated data as well:\n",
    "dataUN"
   ]
  },
  {
   "cell_type": "markdown",
   "metadata": {},
   "source": [
    "Organize data into specific reward types. Noise trials are listed as 0. We don't care about those. The tone that isn't rewarded is shown as '1.0', and the tone that is rewarded is '10'. Let's look at the rewarded tones first. "
   ]
  },
  {
   "cell_type": "code",
   "execution_count": null,
   "metadata": {},
   "outputs": [],
   "source": [
    "# Answer\n",
    "tone1VNS=dataVNS.loc[dataVNS['Reward Type'] ==10]\n",
    "tone1UN=dataUN.loc[dataUN['Reward Type'] ==10]\n",
    "print(tone1VNS,tone1UN)"
   ]
  },
  {
   "cell_type": "markdown",
   "metadata": {},
   "source": [
    "Next, let's take a look at the non-rewarded tones for both the vagal nerve stimulation and the unstimulated. "
   ]
  },
  {
   "cell_type": "code",
   "execution_count": null,
   "metadata": {},
   "outputs": [],
   "source": [
    "# Answer\n",
    "tone2VNS=dataVNS.loc[dataVNS['Reward Type'] ==1]\n",
    "tone2UN=dataUN.loc[dataUN['Reward Type'] ==1]\n",
    "print(tone2VNS,tone2UN)"
   ]
  },
  {
   "cell_type": "markdown",
   "metadata": {},
   "source": [
    "Next we want to separate out the hit count values of each of these variables. The hit count is a measure of if the ferret successfully licked to the correct tone, in the case of that tone, or incorrectly licked to the wrong tone. "
   ]
  },
  {
   "cell_type": "code",
   "execution_count": null,
   "metadata": {},
   "outputs": [],
   "source": [
    "# Answer\n",
    "t1VNS_hitcount=tone1VNS['Hit Count']\n",
    "t2VNS_hitcount=tone2VNS['Hit Count']\n",
    "t1UN_hitcount=tone1UN['Hit Count']\n",
    "t2UN_hitcount=tone2UN['Hit Count']\n",
    "t1VNS_hitcount\n"
   ]
  },
  {
   "cell_type": "markdown",
   "metadata": {},
   "source": [
    "Next we'll actually convert these numbers into a hit rate, or the sum of the correct correct hits divided by the total number. Let's look at the hit rate of the first five exposures to Tone 1. "
   ]
  },
  {
   "cell_type": "code",
   "execution_count": null,
   "metadata": {},
   "outputs": [],
   "source": [
    "# Answer\n",
    "HR=sum(t1VNS_hitcount[0:5]) /len(t1VNS_hitcount[0:5])\n",
    "\n",
    "HR"
   ]
  },
  {
   "cell_type": "markdown",
   "metadata": {},
   "source": [
    "#For Loops\n",
    "\n",
    "\n",
    "For loops are great for taking items in a list and performing some kind of a function on them in an iterable manner. \n",
    "For example, imagine we had a bunch of numbers that we wanted to find the square of\n",
    "\n",
    "We could calculate all these out using our calculator, but that would be a pain. Python makes it easy.\n",
    "\n",
    "Here's the format for a for loop:\n",
    "\n",
    "for x in list:\n",
    "    Do something\n",
    "\n",
    "How would you go about making a for loop for this question?\n",
    "\n",
    "\n",
    "\n",
    "\n",
    "\n"
   ]
  },
  {
   "cell_type": "code",
   "execution_count": null,
   "metadata": {},
   "outputs": [],
   "source": [
    "numbers = [43, 201, 323, 785, 92, 1, 10205]\n"
   ]
  },
  {
   "cell_type": "code",
   "execution_count": null,
   "metadata": {},
   "outputs": [],
   "source": [
    "# Answer\n",
    "for number in numbers:\n",
    "    result = number**2\n",
    "    print(result)"
   ]
  },
  {
   "cell_type": "code",
   "execution_count": null,
   "metadata": {},
   "outputs": [],
   "source": [
    "## Imagine we had a list of names:\n",
    "names = ['Robb', 'Sansa', 'Arya', 'Bran', 'Rickon', 'Jon']\n",
    "## Let's say we wanted to welcome back these individuals to their homeland, Winterfell, and bestow upon \n",
    "## them their rightful rule over the North. Unfortunately, they keep dying. As a loyal Winterfellian \n",
    "## and Pythonist, you want to make sure you can quickly welcome each of them home as the rightful ruler. \n",
    "## How would you do that? \n",
    "\n",
    "\n"
   ]
  },
  {
   "cell_type": "code",
   "execution_count": null,
   "metadata": {},
   "outputs": [],
   "source": [
    "# Answer\n",
    "for stark in names:\n",
    "    if stark == 'Robb':\n",
    "        print(stark + \" is King in the North!\")\n",
    "    elif stark == 'Sansa' or stark == 'Arya':\n",
    "        print('Scratch that... ' + stark + ' is Queen in the North!') \n",
    "    else:\n",
    "        print('Scratch that... ' + stark + ' is King in the North!')"
   ]
  },
  {
   "cell_type": "markdown",
   "metadata": {},
   "source": [
    "That's great, next let's try using that for loop knowledge at getting the hit rate for every iteration of 5. "
   ]
  },
  {
   "cell_type": "code",
   "execution_count": null,
   "metadata": {},
   "outputs": [],
   "source": [
    "# Answer\n",
    "HR_t1VNS=[]\n",
    "for i in range(0, len(t1VNS_hitcount), 5):\n",
    "    HR_t1VNS.append(sum(t1VNS_hitcount[i:i+5]) / 5)\n",
    "HR_t1VNS"
   ]
  },
  {
   "cell_type": "markdown",
   "metadata": {},
   "source": [
    "Does this look right? What might be wrong? What if the total number of calculations isn't divisible by 5? Let's see how many observations were present in our data sample."
   ]
  },
  {
   "cell_type": "code",
   "execution_count": null,
   "metadata": {},
   "outputs": [],
   "source": [
    "# Answer\n",
    "print(len(t1VNS_hitcount))"
   ]
  },
  {
   "cell_type": "markdown",
   "metadata": {},
   "source": [
    "We need to figure out some way to account for extra observations that aren't multiples of 5. How can we keep track of where we're at in the list, and run the final number against the correct divisor? \n",
    "\n",
    "\n"
   ]
  },
  {
   "cell_type": "code",
   "execution_count": null,
   "metadata": {},
   "outputs": [],
   "source": [
    "# Answer\n",
    "HR_t1VNS=[]\n",
    "for i in range(0, len(t1VNS_hitcount), 5):\n",
    "    print(\"i is: {0}\".format(i))\n",
    "    divisor = len(t1VNS_hitcount[i:i+5])\n",
    "    print(\"length of list: {0}\".format(divisor))\n",
    "    HR_t1VNS.append((sum(t1VNS_hitcount[i:i+5]) / divisor))\n"
   ]
  },
  {
   "cell_type": "markdown",
   "metadata": {},
   "source": [
    "You know, maybe it will be better to just remove that last number. A hit rate of 1 / 1 being compared directly against hit rates that had 5 values will artificially inflate the hit rate (albeit by a very small amount.)"
   ]
  },
  {
   "cell_type": "code",
   "execution_count": null,
   "metadata": {},
   "outputs": [],
   "source": [
    "# Answer\n",
    "HR_t1VNS = HR_t1VNS[-1]"
   ]
  },
  {
   "cell_type": "markdown",
   "metadata": {},
   "source": [
    "Now lets do this for the 3 other values we care about, the hit rate while the low frequency (unrewarded tone) is played under the condition of vagal nerve stimulation, and the hit rate of rewarded and unrewarded tones without vagal nerve stimulation.\n"
   ]
  },
  {
   "cell_type": "code",
   "execution_count": null,
   "metadata": {
    "scrolled": false
   },
   "outputs": [],
   "source": [
    "# Answer\n",
    "HR_t2VNS=[]\n",
    "for i in range(0, len(t2VNS_hitcount), 5):\n",
    "    #print(\"i is: {0}\".format(i))\n",
    "    divisor = len(t2VNS_hitcount[i:i+5])\n",
    "    #print(\"length of list: {0}\".format(divisor))\n",
    "    HR_t2VNS.append((sum(t2VNS_hitcount[i:i+5]) / divisor))\n",
    "HR_t2VNS=HR_t2VNS[:-1]  \n",
    "print(HR_t2VNS)\n",
    "\n",
    "HR_t1UN=[]\n",
    "for i in range(0, len(t1UN_hitcount), 5):\n",
    "    #print(\"i is: {0}\".format(i))\n",
    "    divisor = len(t1UN_hitcount[i:i+5])\n",
    "    #print(\"length of list: {0}\".format(divisor))\n",
    "    HR_t1UN.append((sum(t1UN_hitcount[i:i+5]) / divisor))\n",
    "HR_t1UN=HR_t1UN[:-1]  \n",
    "print(HR_t1UN)\n",
    "    \n",
    "HR_t2UN=[]\n",
    "for i in range(0, len(t2UN_hitcount), 5):\n",
    "    #print(\"i is: {0}\".format(i))\n",
    "    divisor = len(t2UN_hitcount[i:i+5])\n",
    "    #print(\"length of list: {0}\".format(divisor))\n",
    "    HR_t2UN.append((sum(t2UN_hitcount[i:i+5]) / divisor))\n",
    "HR_t2UN=HR_t2UN[:-1]  \n",
    "print(HR_t2UN)\n",
    "\n"
   ]
  },
  {
   "cell_type": "markdown",
   "metadata": {},
   "source": [
    "For your future knowledge, those for loops could actually be done in a single line of code using a process called list comprehension. Check it out below:\n"
   ]
  },
  {
   "cell_type": "code",
   "execution_count": null,
   "metadata": {},
   "outputs": [],
   "source": [
    "HitRate=[sum(t1VNS_hitcount[i:i+5]) / len(t1VNS_hitcount[i:i+5]) for i in range(0, len(t1VNS_hitcount), 5)]\n",
    "print(HitRate)\n",
    "##Of course, we would still need to remove the final value."
   ]
  },
  {
   "cell_type": "markdown",
   "metadata": {},
   "source": [
    "Next we want to compare the hit rates of the two tones during VNS. But what if the total number of observations aren't the same? What can we do?"
   ]
  },
  {
   "cell_type": "code",
   "execution_count": null,
   "metadata": {},
   "outputs": [],
   "source": [
    "# Answer\n",
    "min_len=min(len(HR_t1VNS),len(HR_t2VNS))\n",
    "HR_t1VNS=HR_t1VNS[:min_len]\n",
    "HR_t2VNS=HR_t2VNS[:min_len]\n",
    "len(HR_t1VNS)"
   ]
  },
  {
   "cell_type": "markdown",
   "metadata": {},
   "source": [
    "Next let's do the same thing for unstimulated"
   ]
  },
  {
   "cell_type": "code",
   "execution_count": null,
   "metadata": {},
   "outputs": [],
   "source": [
    "# Answer\n",
    "min_len=min(len(HR_t1UN),len(HR_t2UN))\n",
    "\n",
    "HR_t1UN=HR_t1UN[:min_len]\n",
    "HR_t2UN=HR_t2UN[:min_len]"
   ]
  },
  {
   "cell_type": "markdown",
   "metadata": {},
   "source": [
    "Now we're finally close to really seeing how these compare to each other. We're going to look at this in terms of a \"Lick Index\". The Lick Index is defined as (Hit Rate of Tone 1 / Hit Rate of Tone 2) / (0.5 * (Hit Rate of Tone 1 + Hit Rate of Tone 2)). Since we're interested in how this looks over the course of the trials, we want to look at each compared block of 5 (already performed in our hit rate analysis). How can we do this? Hint: More For Loops! \n",
    "\n",
    "A value of 2 is a perfect score. They always lick during the correct tone, and never lick during the wrong tone. A score of -2 is the opposite, indicative of a very naughty ferret.  "
   ]
  },
  {
   "cell_type": "code",
   "execution_count": null,
   "metadata": {
    "scrolled": true
   },
   "outputs": [],
   "source": [
    "# Answer\n",
    "LI_VNS=[]\n",
    "for n in range(0, len(HR_t1VNS), 1):\n",
    "    #print(\"n is: {0}\".format(n))\n",
    "    LI_VNS.append((HR_t1VNS[n]-HR_t2VNS[n])/(0.5*(HR_t1VNS[n]+HR_t2VNS[n])))\n",
    "print(LI_VNS)\n",
    "\n"
   ]
  },
  {
   "cell_type": "markdown",
   "metadata": {},
   "source": [
    "Great job! Now find the Lincking Index of the unstimulated hit rates!"
   ]
  },
  {
   "cell_type": "code",
   "execution_count": 6,
   "metadata": {},
   "outputs": [
    {
     "ename": "NameError",
     "evalue": "name 'HR_t1UN' is not defined",
     "output_type": "error",
     "traceback": [
      "\u001b[1;31m---------------------------------------------------------------------------\u001b[0m",
      "\u001b[1;31mNameError\u001b[0m                                 Traceback (most recent call last)",
      "\u001b[1;32m<ipython-input-6-482214e1808f>\u001b[0m in \u001b[0;36m<module>\u001b[1;34m\u001b[0m\n\u001b[0;32m      1\u001b[0m \u001b[0mLI_UN\u001b[0m\u001b[1;33m=\u001b[0m\u001b[1;33m[\u001b[0m\u001b[1;33m]\u001b[0m\u001b[1;33m\u001b[0m\u001b[0m\n\u001b[1;32m----> 2\u001b[1;33m \u001b[1;32mfor\u001b[0m \u001b[0mn\u001b[0m \u001b[1;32min\u001b[0m \u001b[0mrange\u001b[0m\u001b[1;33m(\u001b[0m\u001b[1;36m0\u001b[0m\u001b[1;33m,\u001b[0m \u001b[0mlen\u001b[0m\u001b[1;33m(\u001b[0m\u001b[0mHR_t1UN\u001b[0m\u001b[1;33m)\u001b[0m\u001b[1;33m,\u001b[0m \u001b[1;36m1\u001b[0m\u001b[1;33m)\u001b[0m\u001b[1;33m:\u001b[0m\u001b[1;33m\u001b[0m\u001b[0m\n\u001b[0m\u001b[0;32m      3\u001b[0m     \u001b[1;31m#print(\"n is: {0}\".format(n))\u001b[0m\u001b[1;33m\u001b[0m\u001b[1;33m\u001b[0m\u001b[0m\n\u001b[0;32m      4\u001b[0m     \u001b[0mLI_UN\u001b[0m\u001b[1;33m.\u001b[0m\u001b[0mappend\u001b[0m\u001b[1;33m(\u001b[0m\u001b[1;33m(\u001b[0m\u001b[0mHR_t1UN\u001b[0m\u001b[1;33m[\u001b[0m\u001b[0mn\u001b[0m\u001b[1;33m]\u001b[0m\u001b[1;33m-\u001b[0m\u001b[0mHR_t2UN\u001b[0m\u001b[1;33m[\u001b[0m\u001b[0mn\u001b[0m\u001b[1;33m]\u001b[0m\u001b[1;33m)\u001b[0m\u001b[1;33m/\u001b[0m\u001b[1;33m(\u001b[0m\u001b[1;36m0.5\u001b[0m\u001b[1;33m*\u001b[0m\u001b[1;33m(\u001b[0m\u001b[0mHR_t1UN\u001b[0m\u001b[1;33m[\u001b[0m\u001b[0mn\u001b[0m\u001b[1;33m]\u001b[0m\u001b[1;33m+\u001b[0m\u001b[0mHR_t2UN\u001b[0m\u001b[1;33m[\u001b[0m\u001b[0mn\u001b[0m\u001b[1;33m]\u001b[0m\u001b[1;33m)\u001b[0m\u001b[1;33m)\u001b[0m\u001b[1;33m)\u001b[0m\u001b[1;33m\u001b[0m\u001b[0m\n\u001b[0;32m      5\u001b[0m \u001b[0mprint\u001b[0m\u001b[1;33m(\u001b[0m\u001b[0mLI_UN\u001b[0m\u001b[1;33m)\u001b[0m\u001b[1;33m\u001b[0m\u001b[0m\n",
      "\u001b[1;31mNameError\u001b[0m: name 'HR_t1UN' is not defined"
     ]
    }
   ],
   "source": [
    "# Answer\n",
    "LI_UN=[]\n",
    "for n in range(0, len(HR_t1UN), 1):\n",
    "    #print(\"n is: {0}\".format(n))\n",
    "    LI_UN.append((HR_t1UN[n]-HR_t2UN[n])/(0.5*(HR_t1UN[n]+HR_t2UN[n])))\n",
    "print(LI_UN)"
   ]
  },
  {
   "cell_type": "markdown",
   "metadata": {},
   "source": [
    "Now we're ready to do some plotting! Let's work with a boxplot. How would we go about plotting the licking Index for VNS and for Unstimulated?"
   ]
  },
  {
   "cell_type": "code",
   "execution_count": null,
   "metadata": {},
   "outputs": [],
   "source": [
    "#fig1,ax1=plt.subplots()\n",
    "\n",
    "#ax1.boxplot(LI_VNS)\n",
    "#ax1.set_title('basic plot')\n",
    "#ax2.boxplot(LI_UN)\n",
    "\n",
    "data = [LI_VNS, LI_UN]\n",
    "\n",
    "# Multiple box plots on one Axes\n",
    "fig, ax = plt.subplots()\n",
    "ax.boxplot(data)\n",
    "\n",
    "plt.show()\n"
   ]
  },
  {
   "cell_type": "code",
   "execution_count": null,
   "metadata": {},
   "outputs": [],
   "source": [
    "LI_VNS_pos=[]\n",
    "for n in range(0, len(LI_VNS), 1):\n",
    "    #print(\"n is: {0}\".format(n))\n",
    "    if LI_VNS[n]> 0:\n",
    "        LI_VNS_pos.append(1)\n",
    "    \n",
    "print(LI_VNS_pos)\n",
    "\n",
    "LI_UN_pos=[]\n",
    "for n in range(0, len(LI_UN), 1):\n",
    "    #print(\"n is: {0}\".format(n))\n",
    "    if LI_UN[n]> 0:\n",
    "        LI_UN_pos.append(1)\n",
    "    \n",
    "print(LI_UN_pos)"
   ]
  },
  {
   "cell_type": "code",
   "execution_count": null,
   "metadata": {},
   "outputs": [],
   "source": [
    "LI_VNS_per=(sum(LI_VNS_pos)/len(LI_VNS))*100\n",
    "LI_VNS_per"
   ]
  },
  {
   "cell_type": "code",
   "execution_count": null,
   "metadata": {},
   "outputs": [],
   "source": [
    "LI_UN_per=(sum(LI_UN_pos)/len(LI_UN))*100\n",
    "LI_UN_per"
   ]
  },
  {
   "cell_type": "code",
   "execution_count": null,
   "metadata": {},
   "outputs": [],
   "source": [
    "data = [LI_VNS_per, LI_UN_per]\n",
    "data"
   ]
  },
  {
   "cell_type": "code",
   "execution_count": null,
   "metadata": {},
   "outputs": [],
   "source": [
    "objects=('VNS','UN')\n",
    "#x=np.arange(len(objects))\n",
    "plt.bar(objects,data)\n",
    "plt.xlabel('Training conditions')\n",
    "plt.ylabel('Percentage LI>0 (%)')"
   ]
  },
  {
   "cell_type": "code",
   "execution_count": null,
   "metadata": {},
   "outputs": [],
   "source": []
  }
 ],
 "metadata": {
  "kernelspec": {
   "display_name": "Python 3",
   "language": "python",
   "name": "python3"
  },
  "language_info": {
   "codemirror_mode": {
    "name": "ipython",
    "version": 3
   },
   "file_extension": ".py",
   "mimetype": "text/x-python",
   "name": "python",
   "nbconvert_exporter": "python",
   "pygments_lexer": "ipython3",
   "version": "3.7.0"
  }
 },
 "nbformat": 4,
 "nbformat_minor": 2
}
