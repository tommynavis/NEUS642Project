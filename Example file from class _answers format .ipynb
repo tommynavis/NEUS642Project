{
 "cells": [
  {
   "cell_type": "markdown",
   "metadata": {},
   "source": [
    "<a href=\"#Overview\"></a>\n",
    "# Overview\n",
    "* <a href=\"#Introduction\">Introduction</a>\n",
    "* <a href=\"#Loading-the-data\">Loading the data</a>\n",
    "  * <a href=\"#Exercise-1\">Exercise 1</a>\n",
    "* <a href=\"#Working-with-our-data\">Working with our data</a>\n",
    "  * <a href=\"#Exercise-2\">Exercise 2</a>\n",
    "  * <a href=\"#Exercise-3\">Exercise 3</a>\n",
    "  * <a href=\"#Exercise-4\">Exercise 4</a>\n",
    "* <a href=\"#Plotting-our-data\">Plotting our data</a>\n",
    "  * <a href=\"#Exercise-5\">Exercise 5</a>\n",
    "  * <a href=\"#Exercise-6\">Exercise 6</a>\n",
    "  * <a href=\"#Exercise-7\">Exercise 7</a>\n",
    "* <a href=\"#Fitting-a-Curve\">Fitting a Curve</a>\n",
    "  * <a href=\"#Exercise-8\">Exercise 8</a>\n",
    "  * <a href=\"#Exercise-9\">Exercise 9</a>\n",
    "  * <a href=\"#Exercise-10\">Exercise 10</a>\n",
    "  * <a href=\"#Exercise-11\">Exercise 11</a>\n",
    "  * <a href=\"#Exercise-12\">Exercise 12</a>\n",
    "* <a href=\"#Plotting-the-curve-fit\">Plotting the curve fit</a>\n",
    "  * <a href=\"#Exercise-13\">Exercise 13</a>\n",
    "  * <a href=\"#Exercise-14\">Exercise 14</a>\n",
    "* <a href=\"#Adding-the-female-dose-response\">Adding the female dose response</a>\n",
    "  * <a href=\"#Exercise-15\">Exercise 15</a>\n",
    "  * <a href=\"#Exercise-16\">Exercise 16</a>\n",
    "* <a href=\"#Working-with-the-curve_fit-constant\">Working with the curve_fit constant</a>\n",
    "  * <a href=\"#Exercise-17\">Exercise 17</a>"
   ]
  },
  {
   "cell_type": "markdown",
   "metadata": {},
   "source": [
    "<a name=\"#Introduction\"></a>\n",
    "## Introduction\n",
    "<a href=\"#Overview\">Return to overview</a>\n",
    "\n",
    "Today we will be plotting and fitting a dose-response curve. The data that we will be working with are whole-cell electrophysiology recordings made from acute brain slices from rats, an example trace is shown below. We will be plotting the current responses to different concentrations of the mu-opioid receptor (MOR) agonist morphine for males versus females. The data consists of multiple experiments for each concentration. \n",
    "\n",
    "When MORs are activated they in turn activate G-protein Inwardly-Rectifying Potassium channels (GIRKs), which is what the current responses below are actually measuring. These channels allow potassium to leave the cell, and this is what creates the electrical current that we are measuring. Because there could be variable numbers of GIRK channels on a cell, the morphine current responses will be normalized to the current responses induced by a saturating concentration of the alpha2-adrenergic receptor agonist UK, which also acts on GIRKs. Because UK is very potent, it will give us the maximum GIRK response possible. \n",
    "\n",
    "I have already manually calculated the current responses for each drug so the file we will be working with is a csv file of these values.\n",
    "\n",
    "Below is an example trace with morphine application, block with the MOR antagonist naloxone (NLX), and then application of UK followed by the appriopriate (alpha2) antagonist, ida. \n",
    "\n",
    "<img src=\"trace1.png\" width = \"800\" >"
   ]
  },
  {
   "cell_type": "markdown",
   "metadata": {},
   "source": [
    "<a name=\"#Loading-the-data\"></a>\n",
    "## Loading the data\n",
    "<a href=\"#Overview\">Return to overview</a>\n",
    "\n",
    "First, we need to import the modules we will need and load the data. We have seen all of these before except for the `curve_fit` function from [scipy.optimize](https://docs.scipy.org/doc/scipy/reference/generated/scipy.optimize.curve_fit.html), which will allow us to fit a curve to our dose response plot.  "
   ]
  },
  {
   "cell_type": "code",
   "execution_count": null,
   "metadata": {},
   "outputs": [],
   "source": [
    "%matplotlib inline\n",
    "import pandas as pd\n",
    "import matplotlib.pyplot as plt\n",
    "from scipy.optimize import curve_fit\n",
    "import numpy as np\n",
    "\n",
    "pd.options.display.max_rows = 7"
   ]
  },
  {
   "cell_type": "markdown",
   "metadata": {},
   "source": [
    "<a name=\"#Exercise-1\"></a>\n",
    "### Exercise 1\n",
    "<a href=\"#Overview\">Return to overview</a>\n"
   ]
  },
  {
   "cell_type": "markdown",
   "metadata": {},
   "source": [
    "Next, we need to import the file that we'll be working with, which is `dose_response_male.csv`. Please first define a string variable called `dose_response_male` that contains the file name. Next, import this file using `pd.read_csv`. This file is organized so that the first column is the concentration, this will be an appropriate index so set this first column as the index column. "
   ]
  },
  {
   "cell_type": "code",
   "execution_count": null,
   "metadata": {},
   "outputs": [],
   "source": [
    "# Answer\n",
    "filename = \"dose_response_male.csv\"\n",
    "\n",
    "dose_response_male = pd.read_csv(filename, index_col=0)\n",
    "dose_response_male"
   ]
  },
  {
   "cell_type": "markdown",
   "metadata": {},
   "source": [
    "<a name=\"#Working-with-our-data\"></a>\n",
    "## Working with our data\n",
    "<a href=\"#Overview\">Return to overview</a>\n"
   ]
  },
  {
   "cell_type": "markdown",
   "metadata": {},
   "source": [
    "<a name=\"#Exercise-2\"></a>\n",
    "### Exercise 2\n",
    "<a href=\"#Overview\">Return to overview</a>\n",
    "\n",
    "Great, now we have loaded our dataframe and can work with it. Later on when we fit a dose response curve we will need the log values of each concentration. So create a new column in our data frame titled `'Log[M]'` that contains the log values. Hint: I included a column in the dataframe that contains each concentration in Molar. "
   ]
  },
  {
   "cell_type": "code",
   "execution_count": null,
   "metadata": {},
   "outputs": [],
   "source": [
    "# Answer\n",
    "dose_response_male['Log[M]'] = np.log10(dose_response_male['concentration_in_M'])\n",
    "dose_response_male"
   ]
  },
  {
   "cell_type": "markdown",
   "metadata": {},
   "source": [
    "<a name=\"#Exercise-3\"></a>\n",
    "### Exercise 3\n",
    "<a href=\"#Overview\">Return to overview</a>\n",
    "\n",
    "Now, as I mentioned, we will be plotting normalized values. The morphine current will be plotted as a percentage of the UK current. So let's add another column to our dataframe titled `'percent_UK'` that contains the normalized values. "
   ]
  },
  {
   "cell_type": "code",
   "execution_count": null,
   "metadata": {},
   "outputs": [],
   "source": [
    "# Answer \n",
    "dose_response_male['percent_UK'] = 100 * dose_response_male['morphine_current'] / dose_response_male['UK_current']\n",
    "dose_response_male"
   ]
  },
  {
   "cell_type": "markdown",
   "metadata": {},
   "source": [
    "<a name=\"#Exercise-4\"></a>\n",
    "### Exercise 4\n",
    "<a href=\"#Overview\">Return to overview</a>\n",
    "\n",
    "Our data contains multiple replicates for each concentration. However, we want to plot the average normalized current for each concentration. How might we group (hint) the data based on concentration and then calculate the average? Store your final answer in the variable `mean_responses_male`."
   ]
  },
  {
   "cell_type": "code",
   "execution_count": null,
   "metadata": {},
   "outputs": [],
   "source": [
    "# Answer \n",
    "grouping_male = dose_response_male.groupby(['Log[M]'])\n",
    "mean_responses_male = grouping_male['percent_UK'].mean()\n",
    "mean_responses_male"
   ]
  },
  {
   "cell_type": "markdown",
   "metadata": {},
   "source": [
    "<a name=\"#Plotting-our-data\"></a>\n",
    "## Plotting our data\n",
    "<a href=\"#Overview\">Return to overview</a>\n"
   ]
  },
  {
   "cell_type": "markdown",
   "metadata": {},
   "source": [
    "<a name=\"#Exercise-5\"></a>\n",
    "### Exercise 5\n",
    "<a href=\"#Overview\">Return to overview</a>\n",
    "\n",
    "Now let's plot our data using `matplotlib.pyplot`! The default is that there will be a line connecting the data, but we want to fit our own line later on. To do this you will need to add an argument for the type of `marker` to use for each point as well as an argument to change the default `linestyle`. Use `plt.plot?` for help in doing this and for a list of markers you could use. Hint: look under \"Other Parameters\". Don't forget to add labels for each axis and a plot title. "
   ]
  },
  {
   "cell_type": "code",
   "execution_count": null,
   "metadata": {},
   "outputs": [],
   "source": [
    "# Answer \n",
    "plt.plot(mean_responses_male, marker='o', linestyle='')\n",
    "plt.xlabel('Log[M]')\n",
    "plt.ylabel('% UK')\n",
    "plt.title('Morphine Dose Response')\n",
    "plt.show()"
   ]
  },
  {
   "cell_type": "markdown",
   "metadata": {},
   "source": [
    "<a name=\"#Exercise-6\"></a>\n",
    "### Exercise 6\n",
    "<a href=\"#Overview\">Return to overview</a>\n",
    "\n",
    "Great, now lets add some error bars. First let's calculate the standard error of the mean and store them in the variable `sem_responses_male`. Hint: is there a dataframe method that can do this for us? <font>"
   ]
  },
  {
   "cell_type": "code",
   "execution_count": null,
   "metadata": {},
   "outputs": [],
   "source": [
    "# Answer \n",
    "sem_responses_male = grouping_male['percent_UK'].sem()\n",
    "sem_responses_male"
   ]
  },
  {
   "cell_type": "markdown",
   "metadata": {},
   "source": [
    "<a name=\"#Exercise-7\"></a>\n",
    "### Exercise 7\n",
    "<a href=\"#Overview\">Return to overview</a>\n",
    "\n",
    "Now let's add error bars to our graph. To do this, you can use `plt.errorbar` instead of `plt.plot` because `plt.errorbar` will plot the data points associated with the errorbars as well. `plt.errorbar` takes two necessary arguments for the x-values and y-values. We have the y-values stored in `mean_responses_male`, so that's easy, but what do we use for the x-values? The grouping we made before has an index made up of the Log[M] concentrations, so we can use `mean_responses_male.index.values` as the x-values! This uses two methods from Pandas. The `index` method retreives the index values from `mean_responses_male` and the `values` method returns an array of these index values. <br> \n",
    "<br>\n",
    "Also, the default for error bars is to not have a cap on them. Let's add some. Hint: what argument(s) does `plt.errorbar` take that will help us do this? "
   ]
  },
  {
   "cell_type": "code",
   "execution_count": null,
   "metadata": {},
   "outputs": [],
   "source": [
    "x_data = mean_responses_male.index.values\n",
    "\n",
    "# Answer \n",
    "plt.errorbar(x_data, mean_responses_male, yerr=sem_responses_male, marker='o', linestyle='', capsize=3)\n",
    "plt.xlabel('Log[M]')\n",
    "plt.ylabel('% UK')\n",
    "plt.title('Morphine Dose Response')\n",
    "plt.show()"
   ]
  },
  {
   "cell_type": "markdown",
   "metadata": {},
   "source": [
    "<a name=\"#Fitting-a-Curve\"></a>\n",
    "## Fitting a Curve\n",
    "<a href=\"#Overview\">Return to overview</a>\n"
   ]
  },
  {
   "cell_type": "markdown",
   "metadata": {},
   "source": [
    "<a name=\"#Exercise-8\"></a>\n",
    "### Exercise 8\n",
    "<a href=\"#Overview\">Return to overview</a>\n",
    "\n",
    "Now we will fit a a curve to the data. To do this, we need to have the x-values and the y-values as separate numpy arrays. We already have the x-values as an array from when we plotted the errorbars above. So now let's deal with the y-values... What are the y-values in this dataset? Create a numpy array of these values and store it in the variable `y_data_male`."
   ]
  },
  {
   "cell_type": "code",
   "execution_count": null,
   "metadata": {},
   "outputs": [],
   "source": [
    "# Answer \n",
    "y_data_male = mean_responses_male.values\n",
    "y_data_male"
   ]
  },
  {
   "cell_type": "markdown",
   "metadata": {},
   "source": [
    "<a name=\"#Exercise-9\"></a>\n",
    "### Exercise 9\n",
    "<a href=\"#Overview\">Return to overview</a>\n",
    "\n",
    "OK, now we can fit the data! But with what equation? A very important step in curve fitting is knowing what curve to fit to your data, and knowing enough about your system/experiment to know what sort of models (or curves) fit. We will give you the equation for this dataset, but your own dataset may be different, and may require a different fit equation.\n",
    "\n",
    "For this data (and dose-response curves in general), the Hill equation is appropriate. It is commonly used to fit a variety of dose-response curves in biological and biochemical systems. More on the Hill equation can be found [here](https://en.wikipedia.org/wiki/Hill_equation_(biochemistry)).\n",
    "\n",
    "First we need to define a function for the Hill equation. This will be called by the `curve_fit` function later. The function we will write takes parameters `x`, and all of the constants in the equation we are using `(bottom, top, EC50, hillslope)`. The constants affect the shape of the curve, and this is what the `curve_fit` function will help us figure out the values of.\n",
    "\n",
    "-  `EC50` is the concentration of agonist that gives a response half way between Bottom and Top. \n",
    "-  `Top` and `Bottom` are plateaus in the units of the Y axis.\n",
    "-  The equation we will use assumes that the dose response curve has a standard slope, equal to a `hillslope` (or slope factor) of 1.0\n",
    "\n",
    "<img src='hill_eq.png' width='500' >\n",
    "\n",
    "What is the value of using curve_fit? Why could we just not guess? Well, let's try to guess and see how good we are... We have entered some guesses for you to try. Set the above Hill equation equal to `y` and then plot the resulting line along with our actual data. Hint: `y = bottom + ...`"
   ]
  },
  {
   "cell_type": "code",
   "execution_count": null,
   "metadata": {},
   "outputs": [],
   "source": [
    "x = x_data\n",
    "bottom = 10\n",
    "top = 60\n",
    "EC50 = 3e-7\n",
    "hillslope = 1 \n",
    "\n",
    "# Answer \n",
    "y = bottom + (top-bottom)/(1 + 10**(np.log10(EC50)-x)) \n",
    "plt.plot(x_data, mean_responses_male, \"o\")\n",
    "plt.plot(x, y)"
   ]
  },
  {
   "cell_type": "markdown",
   "metadata": {},
   "source": [
    "<a name=\"#Exercise-10\"></a>\n",
    "### Exercise 10\n",
    "<a href=\"#Overview\">Return to overview</a>\n",
    "\n",
    "So let's make it easier, instead of having to type out the Hill equation manually every time, can you **def**ine a function that takes the appropriate parameters and returns the equation above?\n",
    "\n",
    "Note: by convention, the scipy `curve_fit` function we are using wants `x`, followed by the parameters/constants."
   ]
  },
  {
   "cell_type": "code",
   "execution_count": null,
   "metadata": {},
   "outputs": [],
   "source": [
    "# Answer \n",
    "def hill_eq(x, bottom, top, EC50, hillslope):\n",
    "    y = bottom + (top-bottom)/(1+10**(np.log10(EC50)-x))\n",
    "    return y "
   ]
  },
  {
   "cell_type": "markdown",
   "metadata": {},
   "source": [
    "<a name=\"#Exercise-11\"></a>\n",
    "### Exercise 11\n",
    "<a href=\"#Overview\">Return to overview</a>\n",
    "\n",
    "Great! This function can be used to make guesses just like above. Try using it with the numbers below and then plot them again. "
   ]
  },
  {
   "cell_type": "code",
   "execution_count": null,
   "metadata": {},
   "outputs": [],
   "source": [
    "# bottom = 5, top = 60, EC50 = 8e-8, hillslope = 1\n",
    "# Answer \n",
    "y = hill_eq(x, 5, 60, 8e-8, 1)\n",
    "plt.plot(x,y)\n",
    "plt.plot(x_data, mean_responses_male, \"o\")"
   ]
  },
  {
   "cell_type": "markdown",
   "metadata": {},
   "source": [
    "Now, try adjusting the parameters one or two times in the cell above. Can you get a line that looks like a better fit? \n",
    "\n",
    "How do we evaluate goodness of fit? A common method is the least-squares approach. First, we compute the difference between the *observed* y-values (i.e., `mean_responses_male`) and *predicted* y-values (i.e., `y`). For this exercise: \n",
    "\n",
    "* Compute the difference between `mean_responses_male` and `y` and save it in a variable called `residuals`.\n",
    "* Take the square of `residuals` and sum all the values in this array. Save the resulting number as `sum_of_squares`.\n",
    "\n",
    "Look at how the sum of squares changes as you play with the parameters for the hill equation."
   ]
  },
  {
   "cell_type": "code",
   "execution_count": null,
   "metadata": {},
   "outputs": [],
   "source": [
    "y = hill_eq(x, 5, 60, 8e-8, 1)\n",
    "plt.plot(x_data, mean_responses_male, \"o\")\n",
    "plt.plot(x, y)\n",
    "\n",
    "# Answer \n",
    "residuals = mean_responses_male - y\n",
    "sum_of_squares = np.mean(residuals**2)\n",
    "sum_of_squares"
   ]
  },
  {
   "cell_type": "markdown",
   "metadata": {},
   "source": [
    "This line looks a lot closer but using `curve_fit` is still more valuable for reasons that we will describe below."
   ]
  },
  {
   "cell_type": "markdown",
   "metadata": {},
   "source": [
    "<a name=\"#Exercise-12\"></a>\n",
    "### Exercise 12\n",
    "<a href=\"#Overview\">Return to overview</a>\n",
    "\n",
    "Now let's use scipy's `curve_fit` function, which we imported from `scipy.optimize` earlier. Curve_fit returns two arrays- popt and pcov- that contain the optimal parameters and covariance, respectively. We mostly care about popt, as those are the constants we want to describe the curve (`bottom, top, EC50, hillslope`). These can be named whatever you want them to be, but you will need to set two variables when calling the `curve_fit` function, the first will store the popt values and the second the pcov values.\n",
    "\n",
    "We will also use bounds to limit the constants to positive numbers within a reasonable range. They need to be limited to positive numbers because you can't take the log of a negative number. If `curve_fit` tries to use a negative for EC50, you will get an error. We used 100 here because by visualizing the data, we know the values of each of our constants could not be greater than 100.\n",
    "\n",
    "See if you can figure out how to construct the curve fit statement. Store the values `curve_fit` returns in the variables `male_fit` and `pcov_m`. Use `curve_fit?` for help writing the statement."
   ]
  },
  {
   "cell_type": "code",
   "execution_count": null,
   "metadata": {},
   "outputs": [],
   "source": [
    "bounds = (0, 100) # Limits fit to only positive values, within a reasonable range\n",
    "\n",
    "# Answer\n",
    "male_fit, _ = curve_fit(hill_eq, x_data, y_data_male, bounds=bounds)\n",
    "male_fit"
   ]
  },
  {
   "cell_type": "markdown",
   "metadata": {},
   "source": [
    "<a name=\"#Plotting-the-curve-fit\"></a>\n",
    "## Plotting the curve fit\n",
    "<a href=\"#Overview\">Return to overview</a>\n"
   ]
  },
  {
   "cell_type": "markdown",
   "metadata": {},
   "source": [
    "<a name=\"#Exercise-13\"></a>\n",
    "### Exercise 13\n",
    "<a href=\"#Overview\">Return to overview</a>\n",
    "\n",
    "OK, now let's plot the curve using `matplotlib.pyplot`.\n",
    "\n",
    "To make our lives easier, we can use `*` to help us. `*` automatically unpacks arguments from a list, tuple, or array:\n",
    "\n",
    "    def my_function(a, b, c, d):\n",
    "        print('{} {} {} {}'.format(a, b, c, d))\n",
    "        \n",
    "    a = 1\n",
    "    other_args = [2, 3, 4]\n",
    "    my_function(a, *other_args)\n",
    "    \n",
    "Note that you cannot do:\n",
    "\n",
    "    my_function(*other_args)\n",
    "    \n",
    "Why? What about this? would it work?\n",
    "\n",
    "    args = [1, 2, 3, 4]\n",
    "    my_function(*args)\n",
    "    \n",
    "Would this work?\n",
    "\n",
    "    args = [1, 2, 3, 4]\n",
    "    my_function(4, *args)\n",
    "    \n",
    "Would this work?\n",
    "\n",
    "    args = [1, 2, 3]\n",
    "    my_function(*args, 4)"
   ]
  },
  {
   "cell_type": "markdown",
   "metadata": {},
   "source": [
    "Because popt is an array of our fit constants, we can use `*male_fit` to pass the arguments from the array to `bottom, top, EC50, hillslope`. To plot the line, first set `male_line` equal to the `hill_eq` function with the optimal paramaters we just calculated (`male_fit`). Then plot using `plt.plot`."
   ]
  },
  {
   "cell_type": "code",
   "execution_count": null,
   "metadata": {},
   "outputs": [],
   "source": [
    "# Answer \n",
    "male_line = hill_eq(x_data, *male_fit)\n",
    "plt.plot(x_data, male_line)"
   ]
  },
  {
   "cell_type": "code",
   "execution_count": null,
   "metadata": {},
   "outputs": [],
   "source": [
    "# Isn't that much easier than...\n",
    "male_line = hill_eq(x_data, male_fit[0], male_fit[1], male_fit[2], male_fit[3])\n",
    "plt.plot(x_data, male_line)"
   ]
  },
  {
   "cell_type": "markdown",
   "metadata": {},
   "source": [
    "<a name=\"#Exercise-14\"></a>\n",
    "### Exercise 14\n",
    "<a href=\"#Overview\">Return to overview</a>\n",
    "\n",
    "Now we will add the data we plotted earlier to visualize how good our fit is. Don't forget your labels!"
   ]
  },
  {
   "cell_type": "code",
   "execution_count": null,
   "metadata": {},
   "outputs": [],
   "source": [
    "plt.plot(x_data, male_line, color='deepskyblue')\n",
    "\n",
    "# Answer \n",
    "plt.errorbar(x_data, mean_responses_male, yerr=sem_responses_male, marker='o', linestyle='', capsize=3, color='blue')\n",
    "plt.xlabel('Log[M]')\n",
    "plt.ylabel('% UK')\n",
    "plt.title('Morphine Dose Response')\n",
    "plt.show()"
   ]
  },
  {
   "cell_type": "markdown",
   "metadata": {},
   "source": [
    "Great this looks good! But why is the line with the constants `curve_fit` found better than the one with our guesses? Curve fitting works by optimizing the four parameters in order to minimize the sum of squared errors between the fit line and the observed values.\n",
    "\n",
    "Run the code below to see how much better the line using curve_fit is compared to our guesses (lower is better). `curve_fit` automates the process of finding the arguments for `hill_eq` that result in a prediction with the lowest possible sum of squared errors. "
   ]
  },
  {
   "cell_type": "code",
   "execution_count": null,
   "metadata": {},
   "outputs": [],
   "source": [
    "# y contains the prediction from our last guess\n",
    "sum_sq_errors = np.sum((mean_responses_male - y)**2)\n",
    "print(\"Sum of sq errors (our guess): {}\".format(sum_sq_errors))\n",
    "\n",
    "# male_line contains the prediction from curve_fit\n",
    "best_fit_errors = np.sum((mean_responses_male - male_line)**2)\n",
    "print(\"Sum of sq errors (curve_fit): {}\".format(best_fit_errors))"
   ]
  },
  {
   "cell_type": "markdown",
   "metadata": {},
   "source": [
    "<a name=\"#Adding-the-female-dose-response\"></a>\n",
    "## Adding the female dose response\n",
    "<a href=\"#Overview\">Return to overview</a>\n",
    "\n",
    "Now let's do the same thing for the female dose response. Just run the code below (it repeats everything we did above)."
   ]
  },
  {
   "cell_type": "code",
   "execution_count": null,
   "metadata": {},
   "outputs": [],
   "source": [
    "# Load the file \n",
    "dose_response_female = pd.read_csv('dose_response_female.csv', index_col=0)\n",
    "\n",
    "# Create a column of normalized values \n",
    "dose_response_female['percent_UK'] = 100 * dose_response_female['morphine_current'] / dose_response_female['UK_current']\n",
    "\n",
    "# Create a column of log values \n",
    "dose_response_female['Log[M]'] = np.log10(dose_response_female['concentration_in_M'])\n",
    "\n",
    "# Average based on concentration \n",
    "grouping_female = dose_response_female.groupby(['Log[M]'])\n",
    "mean_responses_female = grouping_female['percent_UK'].mean()\n",
    "\n",
    "# Calculate SEM \n",
    "sem_responses_female = grouping_female['percent_UK'].sem()\n",
    "\n",
    "# Create an array of our y-values \n",
    "y_data_female = mean_responses_female.values"
   ]
  },
  {
   "cell_type": "markdown",
   "metadata": {},
   "source": [
    "<a name=\"#Exercise-15\"></a>\n",
    "### Exercise 15\n",
    "<a href=\"#Overview\">Return to overview</a>\n",
    "\n",
    "We can use the same function we defined above for the hill equation to again find the optimal parameters in order to fit the curve for the famale dose-response curve. This time use the variables `female_fit` and `pcov_f`. "
   ]
  },
  {
   "cell_type": "code",
   "execution_count": null,
   "metadata": {},
   "outputs": [],
   "source": [
    "# Answer \n",
    "female_fit, pcov_f = curve_fit(hill_eq, x_data, y_data_female, bounds=bounds)\n",
    "female_fit"
   ]
  },
  {
   "cell_type": "markdown",
   "metadata": {},
   "source": [
    "<a name=\"#Exercise-16\"></a>\n",
    "### Exercise 16\n",
    "<a href=\"#Overview\">Return to overview</a>\n",
    "\n",
    "Now let's plot the mean responses for males and females along with their curve fits all on the same plot! And let's add a legend this time. "
   ]
  },
  {
   "cell_type": "code",
   "execution_count": null,
   "metadata": {},
   "outputs": [],
   "source": [
    "# Answer\n",
    "female_line = hill_eq(x_data, *female_fit)\n",
    "\n",
    "plt.plot(x_data, male_line, color='deepskyblue')\n",
    "plt.plot(x_data, female_line, color='plum')\n",
    "plt.errorbar(x_data, mean_responses_male, yerr=sem_responses_male, marker='o', linestyle='', capsize=3, color = 'blue')\n",
    "plt.errorbar(x_data, mean_responses_female, yerr=sem_responses_female, marker='o', linestyle='', capsize=3, color='purple')\n",
    "plt.xlabel('Log[M]')\n",
    "plt.ylabel('% UK')\n",
    "plt.title('Morphine Dose Response')\n",
    "plt.legend(['Male Fit', 'Female Fit', 'Male', 'Female'])\n",
    "plt.show()"
   ]
  },
  {
   "cell_type": "markdown",
   "metadata": {},
   "source": [
    "<a name=\"#Working-with-the-curve_fit-constant\"></a>\n",
    "## Working with the curve_fit constant\n",
    "<a href=\"#Overview\">Return to overview</a>\n"
   ]
  },
  {
   "cell_type": "markdown",
   "metadata": {},
   "source": [
    "<a name=\"#Exercise-17\"></a>\n",
    "### Exercise 17\n",
    "<a href=\"#Overview\">Return to overview</a>\n",
    "\n",
    "Now we have a beautiful plot, but it would be nice to know what values were used to fit the curve. These values are stored in  the popt array, but let's convert them to a series to make them more easily readable. First make a list of the labels (`['bottom', 'top', 'EC50 (M)', 'hill slope']`) and then use `pd.Series` to make a series with an index of the fit labels from your list. Do this for both males and females."
   ]
  },
  {
   "cell_type": "code",
   "execution_count": null,
   "metadata": {},
   "outputs": [],
   "source": [
    "# Answer \n",
    "fit_labels = ['bottom', 'top', 'EC50 (M)', 'hill slope']\n",
    "fit_series_m = pd.Series(male_fit, index = fit_labels)\n",
    "fit_series_f = pd.Series(female_fit, index = fit_labels)\n",
    "print(\"Males: \\n\" + str(fit_series_m))\n",
    "print(\"\\nFemales: \\n\" + str(fit_series_f))"
   ]
  },
  {
   "cell_type": "markdown",
   "metadata": {},
   "source": [
    "To make the EC50 values easier to read we can convert it to nM and then print out a statement that rounds it to two decimal points:"
   ]
  },
  {
   "cell_type": "code",
   "execution_count": null,
   "metadata": {},
   "outputs": [],
   "source": [
    "ec50_f = fit_series_f['EC50 (M)'] * 1e9\n",
    "ec50_m = fit_series_m['EC50 (M)'] * 1e9\n",
    "print(\"The EC50 for females is {:.2f} nM\".format(ec50_f))\n",
    "print(\"The EC50 for males is {:.2f} nM\".format(ec50_m))"
   ]
  }
 ],
 "metadata": {
  "kernelspec": {
   "display_name": "Python 3",
   "language": "python",
   "name": "python3"
  },
  "language_info": {
   "codemirror_mode": {
    "name": "ipython",
    "version": 3
   },
   "file_extension": ".py",
   "mimetype": "text/x-python",
   "name": "python",
   "nbconvert_exporter": "python",
   "pygments_lexer": "ipython3",
   "version": "3.6.5"
  }
 },
 "nbformat": 4,
 "nbformat_minor": 2
}
